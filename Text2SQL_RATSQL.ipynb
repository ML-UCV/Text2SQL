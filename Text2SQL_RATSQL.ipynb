{
  "nbformat": 4,
  "nbformat_minor": 0,
  "metadata": {
    "accelerator": "GPU",
    "colab": {
      "name": "Text2SQL - RATSQL",
      "provenance": [],
      "collapsed_sections": [],
      "machine_shape": "hm",
      "authorship_tag": "ABX9TyONKw5ugZ7l7mbh4nYz1kJR",
      "include_colab_link": true
    },
    "kernelspec": {
      "display_name": "Python 3",
      "name": "python3"
    },
    "language_info": {
      "name": "python"
    }
  },
  "cells": [
    {
      "cell_type": "markdown",
      "metadata": {
        "id": "view-in-github",
        "colab_type": "text"
      },
      "source": [
        "<a href=\"https://colab.research.google.com/github/shirounk01/Text2SQL/blob/main/Text2SQL_RATSQL.ipynb\" target=\"_parent\"><img src=\"https://colab.research.google.com/assets/colab-badge.svg\" alt=\"Open In Colab\"/></a>"
      ]
    },
    {
      "cell_type": "markdown",
      "metadata": {
        "id": "kwd_fgS_WF9X"
      },
      "source": [
        "# Setup\n",
        "Run the following code blocks in order to get the data and the needed packages."
      ]
    },
    {
      "cell_type": "code",
      "metadata": {
        "id": "26UmwFuQWBmX"
      },
      "source": [
        "from google.colab import drive\n",
        "drive._mount('/content/drive')"
      ],
      "execution_count": null,
      "outputs": []
    },
    {
      "cell_type": "code",
      "metadata": {
        "id": "wZ3avYIMWbC8"
      },
      "source": [
        "%%bash\n",
        "MINICONDA_INSTALLER_SCRIPT=Miniconda3-4.5.12-Linux-x86_64.sh\n",
        "MINICONDA_PREFIX=/usr/local\n",
        "wget https://repo.continuum.io/miniconda/$MINICONDA_INSTALLER_SCRIPT\n",
        "chmod +x $MINICONDA_INSTALLER_SCRIPT\n",
        "./$MINICONDA_INSTALLER_SCRIPT -b -f -p $MINICONDA_PREFIX"
      ],
      "execution_count": null,
      "outputs": []
    },
    {
      "cell_type": "code",
      "metadata": {
        "id": "WANIkgEqWpm9"
      },
      "source": [
        "!python --version\n",
        "!pip install torch==1.6.0+cu101 torchvision==0.7.0+cu101 -f https://download.pytorch.org/whl/torch_stable.html"
      ],
      "execution_count": null,
      "outputs": []
    },
    {
      "cell_type": "code",
      "metadata": {
        "id": "PQM3Ze1UWtEb"
      },
      "source": [
        "!pip install jsonnet~=0.14.0 transformers babel records asdl astor attrs bpemb networkx pyrsistent nltk stanford-corenlp~=3.9.2\n",
        "!pip install entmax\n",
        "import nltk\n",
        "nltk.download('stopwords')\n",
        "nltk.download('punkt')\n",
        "!pip install torchtext==0.7"
      ],
      "execution_count": null,
      "outputs": []
    },
    {
      "cell_type": "code",
      "metadata": {
        "colab": {
          "base_uri": "https://localhost:8080/"
        },
        "id": "IFQJwCYZ4_nn",
        "outputId": "0f8c2459-dd6d-4408-9f10-9ffbdef4a265"
      },
      "source": [
        "%cd /content/drive/MyDrive/RatSql-Colab/rat-sql"
      ],
      "execution_count": null,
      "outputs": [
        {
          "output_type": "stream",
          "name": "stdout",
          "text": [
            "/content/drive/MyDrive/RatSql-Colab/rat-sql\n"
          ]
        }
      ]
    },
    {
      "cell_type": "markdown",
      "metadata": {
        "id": "fF2E3M6Jhh-A"
      },
      "source": [
        "# Glove"
      ]
    },
    {
      "cell_type": "code",
      "metadata": {
        "id": "P66q_wqFWxLo"
      },
      "source": [
        "# if it does not work, change the port from 9000 to 9001 in /usr/local/lib/python3.7/site-packages/corenlp/client.py\n",
        "!python run.py preprocess experiments/spider-glove-run.jsonnet"
      ],
      "execution_count": null,
      "outputs": []
    },
    {
      "cell_type": "code",
      "metadata": {
        "id": "vsGYjKiRyOzj"
      },
      "source": [
        "!python run.py train experiments/spider-glove-run.jsonnet"
      ],
      "execution_count": null,
      "outputs": []
    },
    {
      "cell_type": "code",
      "metadata": {
        "id": "Z_DQBzI0dAX0"
      },
      "source": [
        "!python run.py eval experiments/spider-glove-run.jsonnet"
      ],
      "execution_count": null,
      "outputs": []
    },
    {
      "cell_type": "code",
      "metadata": {
        "colab": {
          "base_uri": "https://localhost:8080/"
        },
        "id": "hiQsEl7xhe_n",
        "outputId": "8430d39b-c18f-47ec-96ab-293202cd70e4"
      },
      "source": [
        "import json\n",
        "res_json = json.load(open(\"/content/drive/MyDrive/RatSql-Colab/rat-sql/logdir/glove_run/bs=20,lr=7.4e-04,end_lr=0e0,att=0/ie_dirs/glove_run_true_1-step30100.eval\"))\n",
        "print( res_json['total_scores']['all']['exact'])"
      ],
      "execution_count": null,
      "outputs": [
        {
          "name": "stdout",
          "output_type": "stream",
          "text": [
            "0.5841392649903289\n"
          ]
        }
      ]
    },
    {
      "cell_type": "markdown",
      "metadata": {
        "id": "p8hoWNeBh_85"
      },
      "source": [
        "#Bert"
      ]
    },
    {
      "cell_type": "code",
      "metadata": {
        "id": "UbDO-bSasKir"
      },
      "source": [
        "!python run.py preprocess experiments/spider-bert-run.jsonnet"
      ],
      "execution_count": null,
      "outputs": []
    },
    {
      "cell_type": "code",
      "metadata": {
        "id": "T7cjqSAu5cfY"
      },
      "source": [
        "!python run.py train experiments/spider-bert-run.jsonnet"
      ],
      "execution_count": null,
      "outputs": []
    },
    {
      "cell_type": "code",
      "metadata": {
        "id": "p9HwJxs1TXf0"
      },
      "source": [
        "!python run.py eval experiments/spider-bert-run.jsonnet"
      ],
      "execution_count": null,
      "outputs": []
    },
    {
      "cell_type": "code",
      "metadata": {
        "colab": {
          "base_uri": "https://localhost:8080/"
        },
        "id": "L0-ccpetp3r-",
        "outputId": "3a22ca05-7cb8-4b6d-f4eb-d557c16ed1de"
      },
      "source": [
        "import json\n",
        "res_json = json.load(open(\"/content/drive/MyDrive/RatSql-Colab/rat-sql/logdir/bert_run/bs=2,lr=7.4e-04,bert_lr=1.0e-05,end_lr=0e0,att=1/ie_dirs/bert_run_true_1-step81000.eval\"))\n",
        "print( res_json['total_scores']['all']['exact'])"
      ],
      "execution_count": null,
      "outputs": [
        {
          "output_type": "stream",
          "name": "stdout",
          "text": [
            "0.7021276595744681\n"
          ]
        }
      ]
    },
    {
      "cell_type": "markdown",
      "source": [
        "#BERT Demo"
      ],
      "metadata": {
        "id": "PMjkwYpqCPRR"
      }
    },
    {
      "cell_type": "code",
      "metadata": {
        "id": "DOTGQ52q5SbT"
      },
      "source": [
        "!python bertDemo.py"
      ],
      "execution_count": null,
      "outputs": []
    }
  ]
}