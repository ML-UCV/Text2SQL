{
  "cells": [
    {
      "cell_type": "markdown",
      "metadata": {
        "id": "view-in-github",
        "colab_type": "text"
      },
      "source": [
        "<a href=\"https://colab.research.google.com/github/shirounk01/Text2SQL/blob/main/Dataset.ipynb\" target=\"_parent\"><img src=\"https://colab.research.google.com/assets/colab-badge.svg\" alt=\"Open In Colab\"/></a>"
      ]
    },
    {
      "cell_type": "code",
      "execution_count": null,
      "metadata": {
        "colab": {
          "background_save": true
        },
        "id": "dfWXdGJSCymQ"
      },
      "outputs": [],
      "source": [
        "import json\n",
        "\n",
        "import gspread\n",
        "from oauth2client.client import GoogleCredentials\n",
        "\n",
        "f = open(\"eval.json\")\n",
        "\n",
        "data = json.load(f)\n",
        "\n",
        "g = open('infer.json', 'r')\n",
        "lines = g.readlines()\n",
        "y = []\n",
        "for i in range(len(data[\"per_item\"])):\n",
        "    if data[\"per_item\"][i][\"predicted\"].find(\"terminal\") == -1:\n",
        "        continue\n",
        "    y.append([json.loads(lines[i])[\"beams\"][0][\"orig_question\"],data[\"per_item\"][i][\"gold\"],data[\"per_item\"][i][\"gold\"]])\n",
        "\n",
        "g.close()\n",
        "f.close()\n",
        "\n",
        "for k in range(len(y)):\n",
        "    sentence = y[k][1].split()\n",
        "    for i in range(len(sentence)):\n",
        "        if '\\'' in sentence[i] or '\"' in sentence[i] or (sentence[i].isnumeric()):\n",
        "            sentence[i] = \"'terminal'\"\n",
        "    y[k]=' '.join(sentence)\n",
        "\n",
        "\n",
        "gc = gspread.authorize(GoogleCredentials.get_application_default())\n",
        "\n",
        "worksheet = gc.open('DATASET GOLD').sheet1\n",
        "\n",
        "r = 2\n",
        "for x in y:\n",
        "    cell = worksheet.range('A{}:A{}'.format(r, r))\n",
        "    cell[0].value = x[0]\n",
        "    worksheet.update_cells(cell)\n",
        "\n",
        "    cell = worksheet.range('B{}:B{}'.format(r, r))\n",
        "    cell[0].value = x[1]\n",
        "    worksheet.update_cells(cell)\n",
        "\n",
        "    cell = worksheet.range('C{}:C{}'.format(r, r))\n",
        "    cell[0].value = x[2]\n",
        "    worksheet.update_cells(cell)"
      ]
    }
  ],
  "metadata": {
    "colab": {
      "name": "Dataset.ipynb",
      "provenance": [],
      "authorship_tag": "ABX9TyNoDU7FT+3wmvapnREh9ohB",
      "include_colab_link": true
    },
    "kernelspec": {
      "display_name": "Python 3",
      "name": "python3"
    },
    "language_info": {
      "name": "python"
    }
  },
  "nbformat": 4,
  "nbformat_minor": 0
}